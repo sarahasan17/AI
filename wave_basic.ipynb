{
  "nbformat": 4,
  "nbformat_minor": 0,
  "metadata": {
    "colab": {
      "provenance": [],
      "authorship_tag": "ABX9TyNdbwiMlxJrUu2oCW6pLSry",
      "include_colab_link": true
    },
    "kernelspec": {
      "name": "python3",
      "display_name": "Python 3"
    },
    "language_info": {
      "name": "python"
    }
  },
  "cells": [
    {
      "cell_type": "markdown",
      "metadata": {
        "id": "view-in-github",
        "colab_type": "text"
      },
      "source": [
        "<a href=\"https://colab.research.google.com/github/sarahasan17/AI/blob/main/wave_basic.ipynb\" target=\"_parent\"><img src=\"https://colab.research.google.com/assets/colab-badge.svg\" alt=\"Open In Colab\"/></a>"
      ]
    },
    {
      "cell_type": "code",
      "execution_count": 3,
      "metadata": {
        "id": "_4dxtEcC7Uo5"
      },
      "outputs": [],
      "source": [
        "import wave"
      ]
    },
    {
      "cell_type": "code",
      "source": [
        "obj=wave.open('Sara voice.wav','rb')"
      ],
      "metadata": {
        "id": "xfHCvPvr9BNp"
      },
      "execution_count": 4,
      "outputs": []
    },
    {
      "cell_type": "code",
      "source": [
        "print(\"No. of channels\",obj.getnchannels())\n",
        "print(\"sample width\",obj.getsampwidth())\n",
        "print(\"frame rate\",obj.getframerate())\n",
        "print(\"no. of frames\",obj.getnframes())\n",
        "print(\"parameters\",obj.getparams())"
      ],
      "metadata": {
        "colab": {
          "base_uri": "https://localhost:8080/"
        },
        "id": "69Wqu-2FEoGU",
        "outputId": "0915196c-3ca0-4c08-d5e9-8054269767be"
      },
      "execution_count": 5,
      "outputs": [
        {
          "output_type": "stream",
          "name": "stdout",
          "text": [
            "No. of channels 2\n",
            "sample width 2\n",
            "frame rate 48000\n",
            "no. of frames 164864\n",
            "parameters _wave_params(nchannels=2, sampwidth=2, framerate=48000, nframes=164864, comptype='NONE', compname='not compressed')\n"
          ]
        }
      ]
    },
    {
      "cell_type": "code",
      "source": [
        "t_audio=obj.getnframes()/obj.getframerate()\n",
        "print(\"time of the recording :\",int(t_audio),\"sec\")"
      ],
      "metadata": {
        "colab": {
          "base_uri": "https://localhost:8080/"
        },
        "id": "uNATI64oGjxS",
        "outputId": "0acafafb-f968-467b-afdc-9bf63438dc80"
      },
      "execution_count": 6,
      "outputs": [
        {
          "output_type": "stream",
          "name": "stdout",
          "text": [
            "time of the recording : 3 sec\n"
          ]
        }
      ]
    },
    {
      "cell_type": "code",
      "source": [
        "frames=obj.readframes(-1)\n",
        "print(type(frames),type(frames[0]))\n",
        "print(len(frames)/4)"
      ],
      "metadata": {
        "colab": {
          "base_uri": "https://localhost:8080/"
        },
        "id": "L8Y1ocfjHFqd",
        "outputId": "e1498681-7056-42f6-b099-96dc22e04a5f"
      },
      "execution_count": 7,
      "outputs": [
        {
          "output_type": "stream",
          "name": "stdout",
          "text": [
            "<class 'bytes'> <class 'int'>\n",
            "164864.0\n"
          ]
        }
      ]
    },
    {
      "cell_type": "code",
      "source": [
        "len(frames)/2"
      ],
      "metadata": {
        "colab": {
          "base_uri": "https://localhost:8080/"
        },
        "id": "9ZIFnCusH_q9",
        "outputId": "ed05d611-8743-4f6d-b8a4-c78728ce6772"
      },
      "execution_count": 8,
      "outputs": [
        {
          "output_type": "execute_result",
          "data": {
            "text/plain": [
              "329728.0"
            ]
          },
          "metadata": {},
          "execution_count": 8
        }
      ]
    },
    {
      "cell_type": "code",
      "source": [
        "obj.close()"
      ],
      "metadata": {
        "id": "Ikun8OOCKD_x"
      },
      "execution_count": 9,
      "outputs": []
    },
    {
      "cell_type": "code",
      "source": [
        "obj_new=wave.open('Sara voice2.wav','wb')"
      ],
      "metadata": {
        "id": "egndmcsVI5IQ"
      },
      "execution_count": 10,
      "outputs": []
    },
    {
      "cell_type": "code",
      "source": [
        "obj_new.setnchannels(2)\n",
        "obj_new.setsampwidth(2)\n",
        "obj_new.setframerate(48000.0)"
      ],
      "metadata": {
        "id": "i3vwemo7JEM3"
      },
      "execution_count": 11,
      "outputs": []
    },
    {
      "cell_type": "code",
      "source": [
        "obj_new.writeframes(frames)"
      ],
      "metadata": {
        "id": "6Ktuk-9sJoiU"
      },
      "execution_count": 12,
      "outputs": []
    },
    {
      "cell_type": "code",
      "source": [
        "obj_new.close()"
      ],
      "metadata": {
        "id": "-VeOro56JwY_"
      },
      "execution_count": 13,
      "outputs": []
    }
  ]
}